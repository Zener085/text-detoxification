{
 "cells": [
  {
   "cell_type": "code",
   "execution_count": 1,
   "id": "initial_id",
   "metadata": {
    "collapsed": true,
    "ExecuteTime": {
     "end_time": "2023-11-05T09:15:10.760861200Z",
     "start_time": "2023-11-05T09:14:53.981599600Z"
    }
   },
   "outputs": [],
   "source": [
    "import warnings\n",
    "\n",
    "warnings.filterwarnings(\"ignore\")\n",
    "\n",
    "import transformers\n",
    "import torch\n",
    "\n",
    "from datasets import load_metric\n",
    "from transformers import AutoTokenizer, AutoModelForSeq2SeqLM, DataCollatorForSeq2Seq, Seq2SeqTrainingArguments, Seq2SeqTrainer\n",
    "from sklearn.model_selection import train_test_split\n",
    "from src.data import load_main_dataset"
   ]
  },
  {
   "cell_type": "code",
   "execution_count": 2,
   "outputs": [],
   "source": [
    "transformers.set_seed(42)\n",
    "df = load_main_dataset()\n",
    "metric = load_metric(\"sacrebleu\")\n",
    "device = \"cuda\" if torch.cuda.is_available() else \"cpu\""
   ],
   "metadata": {
    "collapsed": false,
    "ExecuteTime": {
     "end_time": "2023-11-05T09:15:16.481150700Z",
     "start_time": "2023-11-05T09:15:10.759862500Z"
    }
   },
   "id": "8f940b64ed465b73"
  },
  {
   "cell_type": "code",
   "execution_count": 3,
   "outputs": [],
   "source": [
    "tokenizer = AutoTokenizer.from_pretrained(\"facebook/bart-base\")"
   ],
   "metadata": {
    "collapsed": false,
    "ExecuteTime": {
     "end_time": "2023-11-05T09:15:18.371348600Z",
     "start_time": "2023-11-05T09:15:16.483144Z"
    }
   },
   "id": "5d0225ec859b1bb2"
  },
  {
   "cell_type": "code",
   "execution_count": 4,
   "outputs": [],
   "source": [
    "def preprocess(__input_text, __output_text):\n",
    "    global tokenizer\n",
    "    _prefix = \"Detoxify: \"\n",
    "    _max_input_length = 1500\n",
    "    _max_output_length = 1000\n",
    "\n",
    "    __input_text = _prefix + __input_text\n",
    "    __input_tensor = tokenizer(__input_text, return_tensors=\"pt\", max_length=_max_input_length, truncation=True)\n",
    "\n",
    "    __output_tensor = tokenizer(__output_text, return_tensors=\"pt\", max_length=_max_output_length, truncation=True)\n",
    "\n",
    "    __input_tensor[\"labels\"] = __output_tensor[\"input_ids\"][0]\n",
    "    __input_tensor[\"input_ids\"] = __input_tensor[\"input_ids\"][0]\n",
    "    __input_tensor[\"attention_mask\"] = __input_tensor[\"attention_mask\"][0]\n",
    "    return __input_tensor"
   ],
   "metadata": {
    "collapsed": false,
    "ExecuteTime": {
     "end_time": "2023-11-05T09:15:18.382520900Z",
     "start_time": "2023-11-05T09:15:18.377536Z"
    }
   },
   "id": "a2fe820f97696bc3"
  },
  {
   "cell_type": "code",
   "execution_count": 5,
   "outputs": [],
   "source": [
    "dataset = []\n",
    "for i in range(len(df)):\n",
    "    dataset.append(preprocess(df[\"reference\"][i], df[\"translation\"][i]))"
   ],
   "metadata": {
    "collapsed": false,
    "ExecuteTime": {
     "end_time": "2023-11-05T09:18:32.080073600Z",
     "start_time": "2023-11-05T09:15:18.383517800Z"
    }
   },
   "id": "4ceb0fb9d5093ea3"
  },
  {
   "cell_type": "code",
   "execution_count": 6,
   "outputs": [
    {
     "data": {
      "text/plain": "{'input_ids': tensor([    0, 43170,  4325,  4591,    35,   114,   726,  8722, 12530,    69,\n           19,    69,  2536,  3844,     6,    24,    74,  3922,     5,   239,\n         1389,     9, 44755, 44370,     4,     2]), 'attention_mask': tensor([1, 1, 1, 1, 1, 1, 1, 1, 1, 1, 1, 1, 1, 1, 1, 1, 1, 1, 1, 1, 1, 1, 1, 1,\n        1, 1]), 'labels': tensor([    0,  1106,   726,  8722,    16,  5681,    69,    19, 39297,  3844,\n            6,    14,  4529,     5,   239,   672,     9, 44755,  8974,  2696,\n            4,     2])}"
     },
     "execution_count": 6,
     "metadata": {},
     "output_type": "execute_result"
    }
   ],
   "source": [
    "dataset[0]"
   ],
   "metadata": {
    "collapsed": false,
    "ExecuteTime": {
     "end_time": "2023-11-05T09:18:32.134638600Z",
     "start_time": "2023-11-05T09:18:32.081073100Z"
    }
   },
   "id": "dde458fafc35ea24"
  },
  {
   "cell_type": "code",
   "execution_count": 7,
   "outputs": [],
   "source": [
    "split = 0.2\n",
    "text_train, text_test = train_test_split(dataset, test_size=split, shuffle=True)"
   ],
   "metadata": {
    "collapsed": false,
    "ExecuteTime": {
     "end_time": "2023-11-05T09:18:32.328327800Z",
     "start_time": "2023-11-05T09:18:32.128654800Z"
    }
   },
   "id": "627ba409f829018c"
  },
  {
   "cell_type": "code",
   "execution_count": 8,
   "outputs": [],
   "source": [
    "model = AutoModelForSeq2SeqLM.from_pretrained(\"SkolkovoInstitute/bart-base-detox\").to(device)"
   ],
   "metadata": {
    "collapsed": false,
    "ExecuteTime": {
     "end_time": "2023-11-05T09:18:38.183804100Z",
     "start_time": "2023-11-05T09:18:32.329326100Z"
    }
   },
   "id": "86ebd965f57428c5"
  },
  {
   "cell_type": "code",
   "execution_count": 9,
   "outputs": [],
   "source": [
    "batch_size = 32\n",
    "args = Seq2SeqTrainingArguments(\n",
    "    \"Model fine-tuning\",\n",
    "    evaluation_strategy=\"epoch\",\n",
    "    learning_rate=0.001,\n",
    "    per_device_train_batch_size=batch_size,\n",
    "    per_device_eval_batch_size=batch_size,\n",
    "    weight_decay=0.01,\n",
    "    save_total_limit=3,\n",
    "    num_train_epochs=10,\n",
    "    predict_with_generate=True,\n",
    "    report_to=\"tensorboard\"\n",
    ")\n",
    "\n",
    "data_collator = DataCollatorForSeq2Seq(tokenizer, model=model)\n",
    "\n",
    "trainer = Seq2SeqTrainer(\n",
    "    model,\n",
    "    args,\n",
    "    train_dataset=text_train,\n",
    "    eval_dataset=text_test,\n",
    "    data_collator=data_collator,\n",
    "    tokenizer=tokenizer\n",
    ")"
   ],
   "metadata": {
    "collapsed": false,
    "ExecuteTime": {
     "end_time": "2023-11-05T09:18:38.301833900Z",
     "start_time": "2023-11-05T09:18:38.187786100Z"
    }
   },
   "id": "539a853b750fe000"
  },
  {
   "cell_type": "code",
   "execution_count": null,
   "outputs": [
    {
     "name": "stderr",
     "output_type": "stream",
     "text": [
      "You're using a BartTokenizerFast tokenizer. Please note that with a fast tokenizer, using the `__call__` method is faster than using a method to encode the text followed by a call to the `pad` method to get a padded encoding.\n"
     ]
    },
    {
     "data": {
      "text/plain": "<IPython.core.display.HTML object>",
      "text/html": "\n    <div>\n      \n      <progress value='2' max='144450' style='width:300px; height:20px; vertical-align: middle;'></progress>\n      [     2/144450 : < :, Epoch 0.00/10]\n    </div>\n    <table border=\"1\" class=\"dataframe\">\n  <thead>\n <tr style=\"text-align: left;\">\n      <th>Epoch</th>\n      <th>Training Loss</th>\n      <th>Validation Loss</th>\n    </tr>\n  </thead>\n  <tbody>\n  </tbody>\n</table><p>"
     },
     "metadata": {},
     "output_type": "display_data"
    }
   ],
   "source": [
    "trainer.train()\n",
    "trainer.save_model(\"../models/best\")"
   ],
   "metadata": {
    "collapsed": false,
    "is_executing": true,
    "ExecuteTime": {
     "start_time": "2023-11-05T09:18:38.304828800Z"
    }
   },
   "id": "826500b1ea84f748"
  },
  {
   "cell_type": "code",
   "execution_count": null,
   "outputs": [],
   "source": [
    "model = AutoModelForSeq2SeqLM.from_pretrained(\"../models/best\")\n",
    "model.eval()"
   ],
   "metadata": {
    "collapsed": false,
    "is_executing": true
   },
   "id": "abda70ddd58a79d1"
  },
  {
   "cell_type": "code",
   "execution_count": null,
   "outputs": [],
   "source": [
    "model()"
   ],
   "metadata": {
    "collapsed": false,
    "is_executing": true
   },
   "id": "470158d4cf0def99"
  }
 ],
 "metadata": {
  "kernelspec": {
   "display_name": "Python 3",
   "language": "python",
   "name": "python3"
  },
  "language_info": {
   "codemirror_mode": {
    "name": "ipython",
    "version": 2
   },
   "file_extension": ".py",
   "mimetype": "text/x-python",
   "name": "python",
   "nbconvert_exporter": "python",
   "pygments_lexer": "ipython2",
   "version": "2.7.6"
  }
 },
 "nbformat": 4,
 "nbformat_minor": 5
}
