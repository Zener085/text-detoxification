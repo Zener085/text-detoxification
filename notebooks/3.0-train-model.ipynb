{
 "cells": [
  {
   "cell_type": "code",
   "execution_count": null,
   "id": "initial_id",
   "metadata": {
    "collapsed": true
   },
   "outputs": [],
   "source": [
    "import warnings\n",
    "\n",
    "warnings.filterwarnings(\"ignore\")\n",
    "\n",
    "import transformers\n",
    "import torch\n",
    "\n",
    "from datasets import load_metric\n",
    "from transformers import AutoTokenizer, AutoModelForSeq2SeqLM, DataCollatorForSeq2Seq, Seq2SeqTrainingArguments, Seq2SeqTrainer\n",
    "from sklearn.model_selection import train_test_split\n",
    "from src.data import load_main_dataset"
   ]
  },
  {
   "cell_type": "code",
   "execution_count": null,
   "outputs": [],
   "source": [
    "transformers.set_seed(42)\n",
    "df = load_main_dataset()\n",
    "metric = load_metric(\"sacrebleu\")\n",
    "device = \"cuda\" if torch.cuda.is_available() else \"cpu\""
   ],
   "metadata": {
    "collapsed": false
   },
   "id": "8f940b64ed465b73"
  },
  {
   "cell_type": "code",
   "execution_count": null,
   "outputs": [],
   "source": [
    "tokenizer = AutoTokenizer.from_pretrained(\"facebook/bart-base\")"
   ],
   "metadata": {
    "collapsed": false
   },
   "id": "5d0225ec859b1bb2"
  },
  {
   "cell_type": "markdown",
   "source": [
    "First of all, we have to prepare the data for the training:\n",
    "In initial dataset, we have to tokenize the input and put the output with `labels` key in the input dict.\n",
    "Pay attention that tokenizer reproduces 2d tensors, but for the training stuff it should be 1d."
   ],
   "metadata": {
    "collapsed": false
   },
   "id": "fe5d465e299566b6"
  },
  {
   "cell_type": "code",
   "execution_count": null,
   "outputs": [],
   "source": [
    "def preprocess(__input_text, __output_text):\n",
    "    global tokenizer\n",
    "    _prefix = \"Detoxify: \"\n",
    "    _max_input_length = 1500\n",
    "    _max_output_length = 1000\n",
    "\n",
    "    __input_text = _prefix + __input_text\n",
    "    __input_tensor = tokenizer(__input_text, return_tensors=\"pt\", max_length=_max_input_length, truncation=True)\n",
    "\n",
    "    __output_tensor = tokenizer(__output_text, return_tensors=\"pt\", max_length=_max_output_length, truncation=True)\n",
    "\n",
    "    __input_tensor[\"labels\"] = __output_tensor[\"input_ids\"][0]\n",
    "    __input_tensor[\"input_ids\"] = __input_tensor[\"input_ids\"][0]\n",
    "    __input_tensor[\"attention_mask\"] = __input_tensor[\"attention_mask\"][0]\n",
    "    return __input_tensor"
   ],
   "metadata": {
    "collapsed": false
   },
   "id": "a2fe820f97696bc3"
  },
  {
   "cell_type": "code",
   "execution_count": null,
   "outputs": [],
   "source": [
    "dataset = []\n",
    "for i in range(len(df)):\n",
    "    dataset.append(preprocess(df[\"reference\"][i], df[\"translation\"][i]))"
   ],
   "metadata": {
    "collapsed": false
   },
   "id": "4ceb0fb9d5093ea3"
  },
  {
   "cell_type": "markdown",
   "source": [
    "Then let's split the data to evaluation and training sets."
   ],
   "metadata": {
    "collapsed": false
   },
   "id": "dfeefb19be818b0"
  },
  {
   "cell_type": "code",
   "execution_count": null,
   "outputs": [],
   "source": [
    "split = 0.2\n",
    "text_train, text_test = train_test_split(dataset, test_size=split, shuffle=True)"
   ],
   "metadata": {
    "collapsed": false
   },
   "id": "627ba409f829018c"
  },
  {
   "cell_type": "markdown",
   "source": [
    "Finally, create model, arguments for the training and trainer."
   ],
   "metadata": {
    "collapsed": false
   },
   "id": "aec2e9dfd94858e2"
  },
  {
   "cell_type": "code",
   "execution_count": null,
   "outputs": [],
   "source": [
    "model = AutoModelForSeq2SeqLM.from_pretrained(\"SkolkovoInstitute/bart-base-detox\").to(device)"
   ],
   "metadata": {
    "collapsed": false
   },
   "id": "86ebd965f57428c5"
  },
  {
   "cell_type": "code",
   "execution_count": null,
   "outputs": [],
   "source": [
    "batch_size = 32\n",
    "args = Seq2SeqTrainingArguments(\n",
    "    \"Model fine-tuning\",\n",
    "    evaluation_strategy=\"epoch\",\n",
    "    learning_rate=0.001,\n",
    "    per_device_train_batch_size=batch_size,\n",
    "    per_device_eval_batch_size=batch_size,\n",
    "    weight_decay=0.01,\n",
    "    save_total_limit=3,\n",
    "    num_train_epochs=10,\n",
    "    predict_with_generate=True,\n",
    "    report_to=\"tensorboard\"\n",
    ")\n",
    "\n",
    "data_collator = DataCollatorForSeq2Seq(tokenizer, model=model)\n",
    "\n",
    "trainer = Seq2SeqTrainer(\n",
    "    model,\n",
    "    args,\n",
    "    train_dataset=text_train,\n",
    "    eval_dataset=text_test,\n",
    "    data_collator=data_collator,\n",
    "    tokenizer=tokenizer\n",
    ")"
   ],
   "metadata": {
    "collapsed": false
   },
   "id": "539a853b750fe000"
  },
  {
   "cell_type": "markdown",
   "source": [
    "Unfortunately, I did not finish the training, but you can do it instead of me:)"
   ],
   "metadata": {
    "collapsed": false
   },
   "id": "1639c21816d8e3ec"
  },
  {
   "cell_type": "code",
   "execution_count": null,
   "outputs": [],
   "source": [
    "trainer.train()\n",
    "trainer.save_model(\"../models/best\")"
   ],
   "metadata": {
    "collapsed": false
   },
   "id": "826500b1ea84f748"
  },
  {
   "cell_type": "markdown",
   "source": [
    "Everything for training is stored in `train` function.\n",
    "You just need to load some model and tokenizer for that, and also load dataset."
   ],
   "metadata": {
    "collapsed": false
   },
   "id": "17eb6544c935e33b"
  },
  {
   "cell_type": "markdown",
   "source": [
    "Let's check if it works:)"
   ],
   "metadata": {
    "collapsed": false
   },
   "id": "4845cdc5203c6d17"
  },
  {
   "cell_type": "code",
   "execution_count": null,
   "outputs": [],
   "source": [
    "model = AutoModelForSeq2SeqLM.from_pretrained(\"../models/best\")\n",
    "model.eval()"
   ],
   "metadata": {
    "collapsed": false
   },
   "id": "abda70ddd58a79d1"
  },
  {
   "cell_type": "code",
   "execution_count": null,
   "outputs": [],
   "source": [
    "print(f\"Toxic text: {df['reference'][3]}\")\n",
    "\n",
    "input_ids = tokenizer(df[\"reference\"][3], return_tensors=\"pt\").input_ids\n",
    "outputs = model.generate(input_ids=input_ids)\n",
    "nontoxic = tokenizer.decode(outputs[0], skip_special_tokens=True, temperature=0)\n",
    "\n",
    "print(f\"It's translation: {nontoxic}\")\n",
    "print(f\"Metric score: \", metric.compute(predictions=[nontoxic], references=[[df[\"translation\"][3]]]))"
   ],
   "metadata": {
    "collapsed": false
   },
   "id": "824fd34059682560"
  },
  {
   "cell_type": "markdown",
   "source": [
    "You may also try to detoxify anything using `detox` function. "
   ],
   "metadata": {
    "collapsed": false
   },
   "id": "ef6d12e1ba215250"
  }
 ],
 "metadata": {
  "kernelspec": {
   "display_name": "Python 3",
   "language": "python",
   "name": "python3"
  },
  "language_info": {
   "codemirror_mode": {
    "name": "ipython",
    "version": 2
   },
   "file_extension": ".py",
   "mimetype": "text/x-python",
   "name": "python",
   "nbconvert_exporter": "python",
   "pygments_lexer": "ipython2",
   "version": "2.7.6"
  }
 },
 "nbformat": 4,
 "nbformat_minor": 5
}
