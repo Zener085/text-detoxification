{
 "cells": [
  {
   "cell_type": "code",
   "execution_count": 22,
   "id": "initial_id",
   "metadata": {
    "collapsed": true,
    "ExecuteTime": {
     "end_time": "2023-11-01T12:35:04.209116Z",
     "start_time": "2023-11-01T12:35:03.556901500Z"
    }
   },
   "outputs": [],
   "source": [
    "import pandas as pd"
   ]
  },
  {
   "cell_type": "code",
   "execution_count": 23,
   "outputs": [],
   "source": [
    "df = pd.read_csv(\"../data/raw/filtered.tsv\", sep=\"\\t\")"
   ],
   "metadata": {
    "collapsed": false,
    "ExecuteTime": {
     "end_time": "2023-11-01T12:35:06.542960700Z",
     "start_time": "2023-11-01T12:35:04.203133100Z"
    }
   },
   "id": "28dc9bba956fdb9"
  },
  {
   "cell_type": "code",
   "execution_count": 24,
   "outputs": [
    {
     "data": {
      "text/plain": "        Unnamed: 0                                          reference  \\\n0                0  If Alkar is flooding her with psychic waste, t...   \n1                1                          Now you're getting nasty.   \n2                2           Well, we could spare your life, for one.   \n3                3          Ah! Monkey, you've got to snap out of it.   \n4                4                   I've got orders to put her down.   \n...            ...                                                ...   \n577772      577772  You didn't know that Estelle had stolen some f...   \n577773      577773                    It'il suck the life out of you!   \n577774      577774                   I can't fuckin' take that, bruv.   \n577775      577775  They called me a fucking hero. The truth is I ...   \n577776      577776                               I did not screw him.   \n\n                                              translation  similarity  \\\n0       if Alkar floods her with her mental waste, it ...    0.785171   \n1                             you're becoming disgusting.    0.749687   \n2                           well, we can spare your life.    0.919051   \n3                            monkey, you have to wake up.    0.664333   \n4                              I have orders to kill her.    0.726639   \n...                                                   ...         ...   \n577772  you didn't know that Estelle stole your fish f...    0.870322   \n577773                  you'd be sucked out of your life!    0.722897   \n577774                          I really can't take this.    0.617511   \n577775         they said I was a hero, but I didn't care.    0.679613   \n577776                                 I didn't fuck him.    0.868475   \n\n        lenght_diff   ref_tox   trn_tox  \n0          0.010309  0.014195  0.981983  \n1          0.071429  0.065473  0.999039  \n2          0.268293  0.213313  0.985068  \n3          0.309524  0.053362  0.994215  \n4          0.181818  0.009402  0.999348  \n...             ...       ...       ...  \n577772     0.030769  0.000121  0.949143  \n577773     0.058824  0.996124  0.215794  \n577774     0.212121  0.984538  0.000049  \n577775     0.358209  0.991945  0.000124  \n577776     0.095238  0.009480  0.994174  \n\n[577777 rows x 7 columns]",
      "text/html": "<div>\n<style scoped>\n    .dataframe tbody tr th:only-of-type {\n        vertical-align: middle;\n    }\n\n    .dataframe tbody tr th {\n        vertical-align: top;\n    }\n\n    .dataframe thead th {\n        text-align: right;\n    }\n</style>\n<table border=\"1\" class=\"dataframe\">\n  <thead>\n    <tr style=\"text-align: right;\">\n      <th></th>\n      <th>Unnamed: 0</th>\n      <th>reference</th>\n      <th>translation</th>\n      <th>similarity</th>\n      <th>lenght_diff</th>\n      <th>ref_tox</th>\n      <th>trn_tox</th>\n    </tr>\n  </thead>\n  <tbody>\n    <tr>\n      <th>0</th>\n      <td>0</td>\n      <td>If Alkar is flooding her with psychic waste, t...</td>\n      <td>if Alkar floods her with her mental waste, it ...</td>\n      <td>0.785171</td>\n      <td>0.010309</td>\n      <td>0.014195</td>\n      <td>0.981983</td>\n    </tr>\n    <tr>\n      <th>1</th>\n      <td>1</td>\n      <td>Now you're getting nasty.</td>\n      <td>you're becoming disgusting.</td>\n      <td>0.749687</td>\n      <td>0.071429</td>\n      <td>0.065473</td>\n      <td>0.999039</td>\n    </tr>\n    <tr>\n      <th>2</th>\n      <td>2</td>\n      <td>Well, we could spare your life, for one.</td>\n      <td>well, we can spare your life.</td>\n      <td>0.919051</td>\n      <td>0.268293</td>\n      <td>0.213313</td>\n      <td>0.985068</td>\n    </tr>\n    <tr>\n      <th>3</th>\n      <td>3</td>\n      <td>Ah! Monkey, you've got to snap out of it.</td>\n      <td>monkey, you have to wake up.</td>\n      <td>0.664333</td>\n      <td>0.309524</td>\n      <td>0.053362</td>\n      <td>0.994215</td>\n    </tr>\n    <tr>\n      <th>4</th>\n      <td>4</td>\n      <td>I've got orders to put her down.</td>\n      <td>I have orders to kill her.</td>\n      <td>0.726639</td>\n      <td>0.181818</td>\n      <td>0.009402</td>\n      <td>0.999348</td>\n    </tr>\n    <tr>\n      <th>...</th>\n      <td>...</td>\n      <td>...</td>\n      <td>...</td>\n      <td>...</td>\n      <td>...</td>\n      <td>...</td>\n      <td>...</td>\n    </tr>\n    <tr>\n      <th>577772</th>\n      <td>577772</td>\n      <td>You didn't know that Estelle had stolen some f...</td>\n      <td>you didn't know that Estelle stole your fish f...</td>\n      <td>0.870322</td>\n      <td>0.030769</td>\n      <td>0.000121</td>\n      <td>0.949143</td>\n    </tr>\n    <tr>\n      <th>577773</th>\n      <td>577773</td>\n      <td>It'il suck the life out of you!</td>\n      <td>you'd be sucked out of your life!</td>\n      <td>0.722897</td>\n      <td>0.058824</td>\n      <td>0.996124</td>\n      <td>0.215794</td>\n    </tr>\n    <tr>\n      <th>577774</th>\n      <td>577774</td>\n      <td>I can't fuckin' take that, bruv.</td>\n      <td>I really can't take this.</td>\n      <td>0.617511</td>\n      <td>0.212121</td>\n      <td>0.984538</td>\n      <td>0.000049</td>\n    </tr>\n    <tr>\n      <th>577775</th>\n      <td>577775</td>\n      <td>They called me a fucking hero. The truth is I ...</td>\n      <td>they said I was a hero, but I didn't care.</td>\n      <td>0.679613</td>\n      <td>0.358209</td>\n      <td>0.991945</td>\n      <td>0.000124</td>\n    </tr>\n    <tr>\n      <th>577776</th>\n      <td>577776</td>\n      <td>I did not screw him.</td>\n      <td>I didn't fuck him.</td>\n      <td>0.868475</td>\n      <td>0.095238</td>\n      <td>0.009480</td>\n      <td>0.994174</td>\n    </tr>\n  </tbody>\n</table>\n<p>577777 rows × 7 columns</p>\n</div>"
     },
     "execution_count": 24,
     "metadata": {},
     "output_type": "execute_result"
    }
   ],
   "source": [
    "df"
   ],
   "metadata": {
    "collapsed": false,
    "ExecuteTime": {
     "end_time": "2023-11-01T12:35:06.588446400Z",
     "start_time": "2023-11-01T12:35:06.541962800Z"
    }
   },
   "id": "3670d5dd10b0cfd6"
  },
  {
   "cell_type": "markdown",
   "source": [
    "The first thing I found that toxicity level can be high in both `reference` and `translation` columns. So we have to swap some items in that columns that toxicity level will be high in the `reference` column and low in the `translation` column."
   ],
   "metadata": {
    "collapsed": false
   },
   "id": "7209d133d0b964c9"
  },
  {
   "cell_type": "code",
   "execution_count": 25,
   "outputs": [],
   "source": [
    "# Swap sentences\n",
    "swap = df[\"ref_tox\"] < df[\"trn_tox\"]\n",
    "df.loc[swap, [\"reference\", \"translation\", \"ref_tox\", \"trn_tox\"]] = df.loc[swap, [\"translation\", \"reference\", \"trn_tox\", \"ref_tox\"]].values"
   ],
   "metadata": {
    "collapsed": false,
    "ExecuteTime": {
     "end_time": "2023-11-01T12:35:07.045545100Z",
     "start_time": "2023-11-01T12:35:06.576479500Z"
    }
   },
   "id": "b650a64a3049b7e2"
  },
  {
   "cell_type": "code",
   "execution_count": 26,
   "outputs": [
    {
     "data": {
      "text/plain": "577777"
     },
     "execution_count": 26,
     "metadata": {},
     "output_type": "execute_result"
    }
   ],
   "source": [
    "df[\"Unnamed: 0\"].nunique()"
   ],
   "metadata": {
    "collapsed": false,
    "ExecuteTime": {
     "end_time": "2023-11-01T12:35:07.084034700Z",
     "start_time": "2023-11-01T12:35:07.048545600Z"
    }
   },
   "id": "809ec5fc8b6843e0"
  },
  {
   "cell_type": "markdown",
   "source": [
    "The first column is useless."
   ],
   "metadata": {
    "collapsed": false
   },
   "id": "1049011c4fda7cef"
  },
  {
   "cell_type": "code",
   "execution_count": 27,
   "outputs": [],
   "source": [
    "df.drop(\"Unnamed: 0\", inplace=True, axis=1)"
   ],
   "metadata": {
    "collapsed": false,
    "ExecuteTime": {
     "end_time": "2023-11-01T12:35:07.158386900Z",
     "start_time": "2023-11-01T12:35:07.086029600Z"
    }
   },
   "id": "b7d77631483c78a8"
  },
  {
   "cell_type": "code",
   "execution_count": 33,
   "outputs": [
    {
     "data": {
      "text/plain": "                                                reference  \\\n0       if Alkar floods her with her mental waste, it ...   \n1                             you're becoming disgusting.   \n2                           well, we can spare your life.   \n3                            monkey, you have to wake up.   \n4                              I have orders to kill her.   \n...                                                   ...   \n577772  you didn't know that Estelle stole your fish f...   \n577773                    It'il suck the life out of you!   \n577774                   I can't fuckin' take that, bruv.   \n577775  They called me a fucking hero. The truth is I ...   \n577776                                 I didn't fuck him.   \n\n                                              translation  similarity  \\\n0       If Alkar is flooding her with psychic waste, t...    0.785171   \n1                               Now you're getting nasty.    0.749687   \n2                Well, we could spare your life, for one.    0.919051   \n3               Ah! Monkey, you've got to snap out of it.    0.664333   \n4                        I've got orders to put her down.    0.726639   \n...                                                   ...         ...   \n577772  You didn't know that Estelle had stolen some f...    0.870322   \n577773                  you'd be sucked out of your life!    0.722897   \n577774                          I really can't take this.    0.617511   \n577775         they said I was a hero, but I didn't care.    0.679613   \n577776                               I did not screw him.    0.868475   \n\n        lenght_diff   ref_tox   trn_tox  \n0          0.010309  0.981983  0.014195  \n1          0.071429  0.999039  0.065473  \n2          0.268293  0.985068  0.213313  \n3          0.309524  0.994215  0.053362  \n4          0.181818  0.999348  0.009402  \n...             ...       ...       ...  \n577772     0.030769  0.949143  0.000121  \n577773     0.058824  0.996124  0.215794  \n577774     0.212121  0.984538  0.000049  \n577775     0.358209  0.991945  0.000124  \n577776     0.095238  0.994174  0.009480  \n\n[577777 rows x 6 columns]",
      "text/html": "<div>\n<style scoped>\n    .dataframe tbody tr th:only-of-type {\n        vertical-align: middle;\n    }\n\n    .dataframe tbody tr th {\n        vertical-align: top;\n    }\n\n    .dataframe thead th {\n        text-align: right;\n    }\n</style>\n<table border=\"1\" class=\"dataframe\">\n  <thead>\n    <tr style=\"text-align: right;\">\n      <th></th>\n      <th>reference</th>\n      <th>translation</th>\n      <th>similarity</th>\n      <th>lenght_diff</th>\n      <th>ref_tox</th>\n      <th>trn_tox</th>\n    </tr>\n  </thead>\n  <tbody>\n    <tr>\n      <th>0</th>\n      <td>if Alkar floods her with her mental waste, it ...</td>\n      <td>If Alkar is flooding her with psychic waste, t...</td>\n      <td>0.785171</td>\n      <td>0.010309</td>\n      <td>0.981983</td>\n      <td>0.014195</td>\n    </tr>\n    <tr>\n      <th>1</th>\n      <td>you're becoming disgusting.</td>\n      <td>Now you're getting nasty.</td>\n      <td>0.749687</td>\n      <td>0.071429</td>\n      <td>0.999039</td>\n      <td>0.065473</td>\n    </tr>\n    <tr>\n      <th>2</th>\n      <td>well, we can spare your life.</td>\n      <td>Well, we could spare your life, for one.</td>\n      <td>0.919051</td>\n      <td>0.268293</td>\n      <td>0.985068</td>\n      <td>0.213313</td>\n    </tr>\n    <tr>\n      <th>3</th>\n      <td>monkey, you have to wake up.</td>\n      <td>Ah! Monkey, you've got to snap out of it.</td>\n      <td>0.664333</td>\n      <td>0.309524</td>\n      <td>0.994215</td>\n      <td>0.053362</td>\n    </tr>\n    <tr>\n      <th>4</th>\n      <td>I have orders to kill her.</td>\n      <td>I've got orders to put her down.</td>\n      <td>0.726639</td>\n      <td>0.181818</td>\n      <td>0.999348</td>\n      <td>0.009402</td>\n    </tr>\n    <tr>\n      <th>...</th>\n      <td>...</td>\n      <td>...</td>\n      <td>...</td>\n      <td>...</td>\n      <td>...</td>\n      <td>...</td>\n    </tr>\n    <tr>\n      <th>577772</th>\n      <td>you didn't know that Estelle stole your fish f...</td>\n      <td>You didn't know that Estelle had stolen some f...</td>\n      <td>0.870322</td>\n      <td>0.030769</td>\n      <td>0.949143</td>\n      <td>0.000121</td>\n    </tr>\n    <tr>\n      <th>577773</th>\n      <td>It'il suck the life out of you!</td>\n      <td>you'd be sucked out of your life!</td>\n      <td>0.722897</td>\n      <td>0.058824</td>\n      <td>0.996124</td>\n      <td>0.215794</td>\n    </tr>\n    <tr>\n      <th>577774</th>\n      <td>I can't fuckin' take that, bruv.</td>\n      <td>I really can't take this.</td>\n      <td>0.617511</td>\n      <td>0.212121</td>\n      <td>0.984538</td>\n      <td>0.000049</td>\n    </tr>\n    <tr>\n      <th>577775</th>\n      <td>They called me a fucking hero. The truth is I ...</td>\n      <td>they said I was a hero, but I didn't care.</td>\n      <td>0.679613</td>\n      <td>0.358209</td>\n      <td>0.991945</td>\n      <td>0.000124</td>\n    </tr>\n    <tr>\n      <th>577776</th>\n      <td>I didn't fuck him.</td>\n      <td>I did not screw him.</td>\n      <td>0.868475</td>\n      <td>0.095238</td>\n      <td>0.994174</td>\n      <td>0.009480</td>\n    </tr>\n  </tbody>\n</table>\n<p>577777 rows × 6 columns</p>\n</div>"
     },
     "execution_count": 33,
     "metadata": {},
     "output_type": "execute_result"
    }
   ],
   "source": [
    "# Final version of the dataset\n",
    "df"
   ],
   "metadata": {
    "collapsed": false,
    "ExecuteTime": {
     "end_time": "2023-11-01T13:06:17.713708200Z",
     "start_time": "2023-11-01T13:06:17.691075200Z"
    }
   },
   "id": "a33626b5a3b7eb49"
  },
  {
   "cell_type": "markdown",
   "source": [
    "Every change I stored in the `load_main_dataset` function.\n",
    "I also want to get some information from this dataset for the next work."
   ],
   "metadata": {
    "collapsed": false
   },
   "id": "7a292b57615acacc"
  },
  {
   "cell_type": "code",
   "execution_count": 36,
   "outputs": [
    {
     "name": "stdout",
     "output_type": "stream",
     "text": [
      "Maximum length of input: 1401; maximum length of output: 969\n"
     ]
    }
   ],
   "source": [
    "# Maximum length of the input and output text\n",
    "max_input_len = df[\"reference\"].str.len().max()\n",
    "max_output_len = df[\"translation\"].str.len().max()\n",
    "print(f\"Maximum length of input: {max_input_len}; maximum length of output: {max_output_len}\")"
   ],
   "metadata": {
    "collapsed": false,
    "ExecuteTime": {
     "end_time": "2023-11-01T13:46:41.451729500Z",
     "start_time": "2023-11-01T13:46:41.111600600Z"
    }
   },
   "id": "64d7111a7a87be85"
  }
 ],
 "metadata": {
  "kernelspec": {
   "display_name": "Python 3",
   "language": "python",
   "name": "python3"
  },
  "language_info": {
   "codemirror_mode": {
    "name": "ipython",
    "version": 2
   },
   "file_extension": ".py",
   "mimetype": "text/x-python",
   "name": "python",
   "nbconvert_exporter": "python",
   "pygments_lexer": "ipython2",
   "version": "2.7.6"
  }
 },
 "nbformat": 4,
 "nbformat_minor": 5
}
